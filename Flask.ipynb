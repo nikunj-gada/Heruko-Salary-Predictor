{
 "cells": [
  {
   "cell_type": "code",
   "execution_count": 8,
   "id": "c473f5b2",
   "metadata": {},
   "outputs": [],
   "source": [
    "import numpy as np\n",
    "from flask import Flask, request, jsonify, render_template\n",
    "import pickle\n",
    "from sklearn.preprocessing import StandardScaler\n",
    "import pandas as pd"
   ]
  },
  {
   "cell_type": "code",
   "execution_count": null,
   "id": "ad8a8d32",
   "metadata": {},
   "outputs": [],
   "source": [
    "app = Flask(__name__)\n",
    "model = pickle.load(open('model.pkl', 'rb'))\n",
    "scaler = pickle.load(open('scaler.pkl', 'rb'))\n",
    "le = pickle.load(open('le.pkl', 'rb'))"
   ]
  },
  {
   "cell_type": "code",
   "execution_count": null,
   "id": "6d2393b0",
   "metadata": {},
   "outputs": [],
   "source": [
    "@app.route('/')\n",
    "def home():\n",
    "    return render_template('index.html')\n",
    "\n",
    "@app.route('/predict',methods=['POST'])\n",
    "def predict():\n",
    "    '''\n",
    "    For rendering results on HTML GUI\n",
    "    '''\n",
    "    int_features = [x for x in request.form.values()]\n",
    "    \n",
    "    min_qualicication = int_features[0]\n",
    "    role_cleaned = int_features[1]\n",
    "    avg_experience_yrs = int_features[2]\n",
    "    current_salary = int_features[3]\n",
    "    \n",
    "    print('min_qualicication :: ',min_qualicication, '\\nrole_cleaned :: ',role_cleaned,\n",
    "          '\\navg_experience_yrs :: ',avg_experience_yrs, '\\ncurrent_salary', current_salary)\n",
    "    \n",
    "    min_qualicication = le.transform([min_qualicication])\n",
    "    role_cleaned = le.transform([role_cleaned])\n",
    "    \n",
    "    print('min_qualicication :: ',min_qualicication[0], '\\nrole_cleaned :: ',role_cleaned[0],\n",
    "          '\\navg_experience_yrs :: ',avg_experience_yrs, '\\ncurrent_salary', current_salary)\n",
    "    \n",
    "    final_features = scaler.transform([[min_qualicication[0], role_cleaned[0], avg_experience_yrs]])\n",
    "    \n",
    "    prediction = model.predict(final_features)\n",
    "    print('prediction :: ',prediction)\n",
    "    output = round(prediction[0], 2)\n",
    "    \n",
    "    text = ''\n",
    "    if len(current_salary) > 0 :\n",
    "        #Your current salary is 37.5% less than the market rate \n",
    "        c = float(output) - float(current_salary)\n",
    "        if c < 0:\n",
    "            c = round(abs(c)*100/float(output),2 ) \n",
    "            text = f'\\nYour current salary is {c}% more than the market rate'\n",
    "        if c > 0:\n",
    "            c = round(abs(c)*100/float(output),2 )\n",
    "            text = f'\\nYour current salary is {c}% less than the market rate'\n",
    "\n",
    "    return render_template('index.html', prediction_text=f'Employee Salary should be ₹ {output} Lacs',\n",
    "                          prediction_text2 = text)\n",
    "\n"
   ]
  },
  {
   "cell_type": "code",
   "execution_count": null,
   "id": "8ac7c60e",
   "metadata": {
    "scrolled": false
   },
   "outputs": [],
   "source": [
    "if __name__ == '__main__':\n",
    "    app.run(debug=False)"
   ]
  },
  {
   "cell_type": "code",
   "execution_count": null,
   "id": "912518b5",
   "metadata": {},
   "outputs": [],
   "source": []
  },
  {
   "cell_type": "code",
   "execution_count": null,
   "id": "bb648c5f",
   "metadata": {},
   "outputs": [],
   "source": []
  },
  {
   "cell_type": "code",
   "execution_count": null,
   "id": "05488fe9",
   "metadata": {},
   "outputs": [],
   "source": []
  }
 ],
 "metadata": {
  "kernelspec": {
   "display_name": "Python 3",
   "language": "python",
   "name": "python3"
  },
  "language_info": {
   "codemirror_mode": {
    "name": "ipython",
    "version": 3
   },
   "file_extension": ".py",
   "mimetype": "text/x-python",
   "name": "python",
   "nbconvert_exporter": "python",
   "pygments_lexer": "ipython3",
   "version": "3.8.10"
  }
 },
 "nbformat": 4,
 "nbformat_minor": 5
}
